{
 "cells": [
  {
   "cell_type": "code",
   "execution_count": 315,
   "metadata": {
    "_cell_guid": "0b1de6c8-8a08-44a7-a7b0-2db5d592e26e",
    "_uuid": "82c4adf0-5e56-44e0-a0d1-d57f319c93ae",
    "execution": {
     "iopub.execute_input": "2022-08-23T02:24:04.473208Z",
     "iopub.status.busy": "2022-08-23T02:24:04.472903Z",
     "iopub.status.idle": "2022-08-23T02:24:04.486084Z",
     "shell.execute_reply": "2022-08-23T02:24:04.485077Z",
     "shell.execute_reply.started": "2022-08-23T02:24:04.473184Z"
    },
    "jupyter": {
     "outputs_hidden": false
    }
   },
   "outputs": [],
   "source": [
    "# This Python 3 environment comes with many helpful analytics libraries installed\n",
    "# It is defined by the kaggle/python Docker image: https://github.com/kaggle/docker-python\n",
    "# For example, here's several helpful packages to load\n",
    "\n",
    "import numpy as np # linear algebra\n",
    "import pandas as pd # data processing, CSV file I/O (e.g. pd.read_csv)\n",
    "\n",
    "# Input data files are available in the read-only \"../input/\" directory\n",
    "# For example, running this (by clicking run or pressing Shift+Enter) will list all files under the input directory\n",
    "\n",
    "import os\n",
    "for dirname, _, filenames in os.walk('/kaggle/input'):\n",
    "    for filename in filenames:\n",
    "        print(os.path.join(dirname, filename))\n",
    "\n",
    "# You can write up to 20GB to the current directory (/kaggle/working/) that gets preserved as output when you create a version using \"Save & Run All\" \n",
    "# You can also write temporary files to /kaggle/temp/, but they won't be saved outside of the current session"
   ]
  },
  {
   "cell_type": "code",
   "execution_count": 316,
   "metadata": {
    "_cell_guid": "fd72ad13-2cfb-47da-bfe8-7711408191fc",
    "_uuid": "3eb54478-7ca8-48a1-9996-4fd3e914bb1b",
    "execution": {
     "iopub.execute_input": "2022-08-23T02:24:04.487579Z",
     "iopub.status.busy": "2022-08-23T02:24:04.487294Z",
     "iopub.status.idle": "2022-08-23T02:24:04.494167Z",
     "shell.execute_reply": "2022-08-23T02:24:04.493559Z",
     "shell.execute_reply.started": "2022-08-23T02:24:04.487556Z"
    },
    "jupyter": {
     "outputs_hidden": false
    }
   },
   "outputs": [],
   "source": [
    "import numpy as np\n",
    "import pandas as pd\n",
    "\n",
    "from sklearn.model_selection import train_test_split\n",
    "from sklearn.preprocessing import StandardScaler\n",
    "from sklearn.preprocessing import LabelEncoder\n",
    "from sklearn.linear_model import LinearRegression, Ridge, Lasso\n",
    "from sklearn.neighbors import KNeighborsRegressor\n",
    "from sklearn.neural_network import MLPRegressor\n",
    "from sklearn.svm import LinearSVR, SVR\n",
    "from sklearn.tree import DecisionTreeRegressor\n",
    "from sklearn.ensemble import RandomForestRegressor, GradientBoostingRegressor\n",
    "from xgboost import XGBRegressor\n",
    "from lightgbm import LGBMRegressor\n",
    "from catboost import CatBoostRegressor\n",
    "import seaborn as sns\n",
    "from sklearn. linear_model import Lasso\n",
    "import joblib\n",
    "\n",
    "import warnings\n",
    "warnings.filterwarnings(action='ignore')"
   ]
  },
  {
   "cell_type": "code",
   "execution_count": null,
   "metadata": {},
   "outputs": [],
   "source": []
  },
  {
   "cell_type": "code",
   "execution_count": 317,
   "metadata": {
    "_cell_guid": "1d50d8ef-cafd-448d-8b6e-0bd09c96081d",
    "_uuid": "dc2ac1c7-b841-41b1-a439-e920aefc28b3",
    "execution": {
     "iopub.execute_input": "2022-08-23T02:24:04.495593Z",
     "iopub.status.busy": "2022-08-23T02:24:04.495150Z",
     "iopub.status.idle": "2022-08-23T02:24:04.519852Z",
     "shell.execute_reply": "2022-08-23T02:24:04.519018Z",
     "shell.execute_reply.started": "2022-08-23T02:24:04.495567Z"
    },
    "jupyter": {
     "outputs_hidden": false
    }
   },
   "outputs": [
    {
     "data": {
      "text/html": [
       "<div>\n",
       "<style scoped>\n",
       "    .dataframe tbody tr th:only-of-type {\n",
       "        vertical-align: middle;\n",
       "    }\n",
       "\n",
       "    .dataframe tbody tr th {\n",
       "        vertical-align: top;\n",
       "    }\n",
       "\n",
       "    .dataframe thead th {\n",
       "        text-align: right;\n",
       "    }\n",
       "</style>\n",
       "<table border=\"1\" class=\"dataframe\">\n",
       "  <thead>\n",
       "    <tr style=\"text-align: right;\">\n",
       "      <th></th>\n",
       "      <th>prod_id</th>\n",
       "      <th>avg price</th>\n",
       "      <th>prod_name</th>\n",
       "      <th>order date</th>\n",
       "      <th>pack sold</th>\n",
       "      <th>order</th>\n",
       "      <th>Season</th>\n",
       "      <th>Month</th>\n",
       "    </tr>\n",
       "  </thead>\n",
       "  <tbody>\n",
       "    <tr>\n",
       "      <th>0</th>\n",
       "      <td>996</td>\n",
       "      <td>4.645859</td>\n",
       "      <td>Tomato Desi 500 Gm</td>\n",
       "      <td>1</td>\n",
       "      <td>7687</td>\n",
       "      <td>6472</td>\n",
       "      <td>winter</td>\n",
       "      <td>march</td>\n",
       "    </tr>\n",
       "    <tr>\n",
       "      <th>1</th>\n",
       "      <td>996</td>\n",
       "      <td>10.222268</td>\n",
       "      <td>Tomato Desi 500 Gm</td>\n",
       "      <td>2</td>\n",
       "      <td>2974</td>\n",
       "      <td>2434</td>\n",
       "      <td>winter</td>\n",
       "      <td>march</td>\n",
       "    </tr>\n",
       "    <tr>\n",
       "      <th>2</th>\n",
       "      <td>996</td>\n",
       "      <td>16.719044</td>\n",
       "      <td>Tomato Desi 500 Gm</td>\n",
       "      <td>3</td>\n",
       "      <td>1568</td>\n",
       "      <td>1171</td>\n",
       "      <td>winter</td>\n",
       "      <td>march</td>\n",
       "    </tr>\n",
       "    <tr>\n",
       "      <th>3</th>\n",
       "      <td>996</td>\n",
       "      <td>16.853556</td>\n",
       "      <td>Tomato Desi 500 Gm</td>\n",
       "      <td>4</td>\n",
       "      <td>1700</td>\n",
       "      <td>1195</td>\n",
       "      <td>winter</td>\n",
       "      <td>march</td>\n",
       "    </tr>\n",
       "    <tr>\n",
       "      <th>4</th>\n",
       "      <td>996</td>\n",
       "      <td>16.427644</td>\n",
       "      <td>Tomato Desi 500 Gm</td>\n",
       "      <td>5</td>\n",
       "      <td>1549</td>\n",
       "      <td>1078</td>\n",
       "      <td>winter</td>\n",
       "      <td>march</td>\n",
       "    </tr>\n",
       "  </tbody>\n",
       "</table>\n",
       "</div>"
      ],
      "text/plain": [
       "   prod_id  avg price           prod_name  order date  pack sold  order  \\\n",
       "0      996   4.645859  Tomato Desi 500 Gm           1       7687   6472   \n",
       "1      996  10.222268  Tomato Desi 500 Gm           2       2974   2434   \n",
       "2      996  16.719044  Tomato Desi 500 Gm           3       1568   1171   \n",
       "3      996  16.853556  Tomato Desi 500 Gm           4       1700   1195   \n",
       "4      996  16.427644  Tomato Desi 500 Gm           5       1549   1078   \n",
       "\n",
       "   Season  Month  \n",
       "0  winter  march  \n",
       "1  winter  march  \n",
       "2  winter  march  \n",
       "3  winter  march  \n",
       "4  winter  march  "
      ]
     },
     "execution_count": 317,
     "metadata": {},
     "output_type": "execute_result"
    }
   ],
   "source": [
    "import pandas as pd\n",
    "data=pd.read_csv('https://raw.githubusercontent.com/Chitkara-University-Pb/Binary-Brains/main/ModifiedDatasetTomato.csv')\n",
    "data.head()"
   ]
  },
  {
   "cell_type": "code",
   "execution_count": 318,
   "metadata": {
    "_cell_guid": "0d7818c2-bc56-475a-aaad-f7fd53e7b699",
    "_uuid": "9798ce2a-ce57-4668-9403-da3b624545ce",
    "execution": {
     "iopub.execute_input": "2022-08-23T02:24:04.522117Z",
     "iopub.status.busy": "2022-08-23T02:24:04.521864Z",
     "iopub.status.idle": "2022-08-23T02:24:04.540565Z",
     "shell.execute_reply": "2022-08-23T02:24:04.539856Z",
     "shell.execute_reply.started": "2022-08-23T02:24:04.522094Z"
    },
    "jupyter": {
     "outputs_hidden": false
    }
   },
   "outputs": [
    {
     "data": {
      "text/html": [
       "<div>\n",
       "<style scoped>\n",
       "    .dataframe tbody tr th:only-of-type {\n",
       "        vertical-align: middle;\n",
       "    }\n",
       "\n",
       "    .dataframe tbody tr th {\n",
       "        vertical-align: top;\n",
       "    }\n",
       "\n",
       "    .dataframe thead th {\n",
       "        text-align: right;\n",
       "    }\n",
       "</style>\n",
       "<table border=\"1\" class=\"dataframe\">\n",
       "  <thead>\n",
       "    <tr style=\"text-align: right;\">\n",
       "      <th></th>\n",
       "      <th>prod_id</th>\n",
       "      <th>avg price</th>\n",
       "      <th>prod_name</th>\n",
       "      <th>order date</th>\n",
       "      <th>pack sold</th>\n",
       "      <th>order</th>\n",
       "      <th>Season</th>\n",
       "      <th>Month</th>\n",
       "    </tr>\n",
       "  </thead>\n",
       "  <tbody>\n",
       "    <tr>\n",
       "      <th>0</th>\n",
       "      <td>996</td>\n",
       "      <td>4.645859</td>\n",
       "      <td>Tomato Desi 500 Gm</td>\n",
       "      <td>1</td>\n",
       "      <td>7687</td>\n",
       "      <td>6472</td>\n",
       "      <td>1</td>\n",
       "      <td>3</td>\n",
       "    </tr>\n",
       "    <tr>\n",
       "      <th>1</th>\n",
       "      <td>996</td>\n",
       "      <td>10.222268</td>\n",
       "      <td>Tomato Desi 500 Gm</td>\n",
       "      <td>2</td>\n",
       "      <td>2974</td>\n",
       "      <td>2434</td>\n",
       "      <td>1</td>\n",
       "      <td>3</td>\n",
       "    </tr>\n",
       "    <tr>\n",
       "      <th>2</th>\n",
       "      <td>996</td>\n",
       "      <td>16.719044</td>\n",
       "      <td>Tomato Desi 500 Gm</td>\n",
       "      <td>3</td>\n",
       "      <td>1568</td>\n",
       "      <td>1171</td>\n",
       "      <td>1</td>\n",
       "      <td>3</td>\n",
       "    </tr>\n",
       "    <tr>\n",
       "      <th>3</th>\n",
       "      <td>996</td>\n",
       "      <td>16.853556</td>\n",
       "      <td>Tomato Desi 500 Gm</td>\n",
       "      <td>4</td>\n",
       "      <td>1700</td>\n",
       "      <td>1195</td>\n",
       "      <td>1</td>\n",
       "      <td>3</td>\n",
       "    </tr>\n",
       "    <tr>\n",
       "      <th>4</th>\n",
       "      <td>996</td>\n",
       "      <td>16.427644</td>\n",
       "      <td>Tomato Desi 500 Gm</td>\n",
       "      <td>5</td>\n",
       "      <td>1549</td>\n",
       "      <td>1078</td>\n",
       "      <td>1</td>\n",
       "      <td>3</td>\n",
       "    </tr>\n",
       "  </tbody>\n",
       "</table>\n",
       "</div>"
      ],
      "text/plain": [
       "   prod_id  avg price           prod_name  order date  pack sold  order  \\\n",
       "0      996   4.645859  Tomato Desi 500 Gm           1       7687   6472   \n",
       "1      996  10.222268  Tomato Desi 500 Gm           2       2974   2434   \n",
       "2      996  16.719044  Tomato Desi 500 Gm           3       1568   1171   \n",
       "3      996  16.853556  Tomato Desi 500 Gm           4       1700   1195   \n",
       "4      996  16.427644  Tomato Desi 500 Gm           5       1549   1078   \n",
       "\n",
       "   Season  Month  \n",
       "0       1      3  \n",
       "1       1      3  \n",
       "2       1      3  \n",
       "3       1      3  \n",
       "4       1      3  "
      ]
     },
     "execution_count": 318,
     "metadata": {},
     "output_type": "execute_result"
    }
   ],
   "source": [
    "#encoding season column\n",
    "data.replace({'Season':{'winter':1,'summer':2,'monsoon':3}},inplace=True)\n",
    "data.replace({'Month':{ \n",
    "        'march': 3,\n",
    "        'april': 4,\n",
    "        'may': 5,\n",
    "        'june': 6,\n",
    "        'july': 7,\n",
    "        'august': 8}},inplace=True)\n",
    "              \n",
    "data.head()"
   ]
  },
  {
   "cell_type": "code",
   "execution_count": 319,
   "metadata": {
    "_cell_guid": "c27f218d-6ddb-4d45-86e5-877360b93282",
    "_uuid": "c6e782ea-5118-449a-8e22-ccb25a42a0ea",
    "execution": {
     "iopub.execute_input": "2022-08-23T02:24:04.542063Z",
     "iopub.status.busy": "2022-08-23T02:24:04.541634Z",
     "iopub.status.idle": "2022-08-23T02:24:04.549854Z",
     "shell.execute_reply": "2022-08-23T02:24:04.548986Z",
     "shell.execute_reply.started": "2022-08-23T02:24:04.542038Z"
    },
    "jupyter": {
     "outputs_hidden": false
    }
   },
   "outputs": [],
   "source": [
    "#splitting dataset into X and y\n",
    "y = data['avg price']\n",
    "X = data.drop(['avg price','prod_name', 'order', 'prod_id', 'pack sold'], axis=1)\n",
    "#for demand\n",
    "z = data['order']\n",
    "w = data.drop(['avg price', 'order', 'pack sold' , 'prod_id', 'prod_name'], axis =1)"
   ]
  },
  {
   "cell_type": "code",
   "execution_count": 320,
   "metadata": {
    "_cell_guid": "ef938877-d7f6-4ff6-964c-25b851ceb9eb",
    "_uuid": "18f3f7f9-3a4f-4344-8514-ec90e1489f0c",
    "execution": {
     "iopub.execute_input": "2022-08-23T02:24:04.551343Z",
     "iopub.status.busy": "2022-08-23T02:24:04.551078Z",
     "iopub.status.idle": "2022-08-23T02:24:04.564152Z",
     "shell.execute_reply": "2022-08-23T02:24:04.563342Z",
     "shell.execute_reply.started": "2022-08-23T02:24:04.551313Z"
    },
    "jupyter": {
     "outputs_hidden": false
    }
   },
   "outputs": [],
   "source": [
    "#splitting into testing and trainning\n",
    "X_train,X_test,y_train,y_test=train_test_split(X,y,train_size=0.6,shuffle=True,random_state=1)\n",
    "X_train,X_test,y_train,y_test=train_test_split(X,y,train_size=0.6,shuffle=True,random_state=1)\n",
    "w_train,w_test,z_train,z_test=train_test_split(w,z,train_size=0.6,shuffle=True,random_state=1)\n",
    "w_train,w_test,z_train,z_test=train_test_split(w,z,train_size=0.6,shuffle=True,random_state=1)"
   ]
  },
  {
   "cell_type": "code",
   "execution_count": 321,
   "metadata": {
    "_cell_guid": "41861f30-884a-44b2-a21c-594a61e8c184",
    "_uuid": "e8d826a4-fe8c-4d94-a2b9-7ed5bdf15160",
    "execution": {
     "iopub.execute_input": "2022-08-23T02:24:04.565875Z",
     "iopub.status.busy": "2022-08-23T02:24:04.565325Z",
     "iopub.status.idle": "2022-08-23T02:24:05.226595Z",
     "shell.execute_reply": "2022-08-23T02:24:05.225612Z",
     "shell.execute_reply.started": "2022-08-23T02:24:04.565850Z"
    },
    "jupyter": {
     "outputs_hidden": false
    }
   },
   "outputs": [
    {
     "name": "stdout",
     "output_type": "stream",
     "text": [
      "                     Linear Regression trained.\n",
      " Linear Regression (L2 Regularization) trained.\n",
      " Linear Regression (L1 Regularization) trained.\n",
      "                   K-Nearest Neighbors trained.\n",
      "                        Neural Network trained.\n",
      "Support Vector Machine (Linear Kernel) trained.\n",
      "   Support Vector Machine (RBF Kernel) trained.\n",
      "                         Decision Tree trained.\n",
      "                         Random Forest trained.\n",
      "                     Gradient Boosting trained.\n",
      "                               XGBoost trained.\n",
      "                              LightGBM trained.\n",
      "                              CatBoost trained.\n",
      "                     Linear Regression R^2 Score: 0.24871\n",
      " Linear Regression (L2 Regularization) R^2 Score: 0.23281\n",
      " Linear Regression (L1 Regularization) R^2 Score: 0.05223\n",
      "                   K-Nearest Neighbors R^2 Score: 0.39945\n",
      "                        Neural Network R^2 Score: -0.56356\n",
      "Support Vector Machine (Linear Kernel) R^2 Score: -0.39850\n",
      "   Support Vector Machine (RBF Kernel) R^2 Score: -0.04952\n",
      "                         Decision Tree R^2 Score: 0.96899\n",
      "                         Random Forest R^2 Score: 0.94430\n",
      "                     Gradient Boosting R^2 Score: 0.90422\n",
      "                               XGBoost R^2 Score: 0.92448\n",
      "                              LightGBM R^2 Score: 0.78978\n",
      "                              CatBoost R^2 Score: 0.91726\n"
     ]
    }
   ],
   "source": [
    "models = {\n",
    "    \"                     Linear Regression\": LinearRegression(),\n",
    "    \" Linear Regression (L2 Regularization)\": Ridge(),\n",
    "    \" Linear Regression (L1 Regularization)\": Lasso(),\n",
    "    \"                   K-Nearest Neighbors\": KNeighborsRegressor(),\n",
    "    \"                        Neural Network\": MLPRegressor(),\n",
    "    \"Support Vector Machine (Linear Kernel)\": LinearSVR(),\n",
    "    \"   Support Vector Machine (RBF Kernel)\": SVR(),\n",
    "    \"                         Decision Tree\": DecisionTreeRegressor(),\n",
    "    \"                         Random Forest\": RandomForestRegressor(),\n",
    "    \"                     Gradient Boosting\": GradientBoostingRegressor(),\n",
    "    \"                               XGBoost\": XGBRegressor(),\n",
    "    \"                              LightGBM\": LGBMRegressor(),\n",
    "    \"                              CatBoost\": CatBoostRegressor(verbose=0)\n",
    "}\n",
    "\n",
    "for name, model in models.items():\n",
    "    model.fit(X_train, y_train)\n",
    "    print(name + \" trained.\")\n",
    "\n",
    "for name, model in models.items():\n",
    "    print(name + \" R^2 Score: {:.5f}\".format(model.score(X_test, y_test)))"
   ]
  },
  {
   "cell_type": "code",
   "execution_count": 322,
   "metadata": {
    "_cell_guid": "71f44fbb-8a1f-4f88-9467-ddbc0aa037cc",
    "_uuid": "ff4a8204-e254-4cd1-a92c-57838119a8f8",
    "execution": {
     "iopub.execute_input": "2022-08-23T02:24:05.229696Z",
     "iopub.status.busy": "2022-08-23T02:24:05.229429Z",
     "iopub.status.idle": "2022-08-23T02:24:05.615798Z",
     "shell.execute_reply": "2022-08-23T02:24:05.614889Z",
     "shell.execute_reply.started": "2022-08-23T02:24:05.229671Z"
    },
    "jupyter": {
     "outputs_hidden": false
    }
   },
   "outputs": [
    {
     "data": {
      "text/plain": [
       "<catboost.core.CatBoostRegressor at 0x1a658e8a500>"
      ]
     },
     "execution_count": 322,
     "metadata": {},
     "output_type": "execute_result"
    }
   ],
   "source": [
    "#model selection linear regression\n",
    "price_reg_model= CatBoostRegressor(verbose=0)\n",
    "price_reg_model.fit(X_train,y_train)\n",
    "\n",
    "order_reg_model = CatBoostRegressor(verbose=0)\n",
    "order_reg_model.fit(w_train,z_train)"
   ]
  },
  {
   "cell_type": "code",
   "execution_count": 323,
   "metadata": {
    "_cell_guid": "e391537c-dd5c-4ce2-b68b-fa945e8a62ee",
    "_uuid": "84f14a96-0b06-4cec-b7ea-b24a9bd5b603",
    "execution": {
     "iopub.execute_input": "2022-08-23T02:24:05.619469Z",
     "iopub.status.busy": "2022-08-23T02:24:05.618850Z",
     "iopub.status.idle": "2022-08-23T02:24:05.625375Z",
     "shell.execute_reply": "2022-08-23T02:24:05.624630Z",
     "shell.execute_reply.started": "2022-08-23T02:24:05.619441Z"
    },
    "jupyter": {
     "outputs_hidden": false
    }
   },
   "outputs": [],
   "source": [
    "#Training data prediction\n",
    "price_data_pred= price_reg_model.predict(X_train)"
   ]
  },
  {
   "cell_type": "code",
   "execution_count": 324,
   "metadata": {
    "_cell_guid": "7fb72306-18b9-4ac9-95e9-1584f946b286",
    "_uuid": "3fd219f4-0577-4c81-9489-a2a8dade28a3",
    "execution": {
     "iopub.execute_input": "2022-08-23T02:24:05.627154Z",
     "iopub.status.busy": "2022-08-23T02:24:05.626478Z",
     "iopub.status.idle": "2022-08-23T02:24:05.637803Z",
     "shell.execute_reply": "2022-08-23T02:24:05.636924Z",
     "shell.execute_reply.started": "2022-08-23T02:24:05.627121Z"
    },
    "jupyter": {
     "outputs_hidden": false
    }
   },
   "outputs": [],
   "source": [
    "order_data_pred= order_reg_model.predict(w_train)"
   ]
  },
  {
   "cell_type": "code",
   "execution_count": 325,
   "metadata": {
    "_cell_guid": "7cf6f7e4-cdfe-46a1-bce1-3073ca7c47be",
    "_uuid": "e36c2d35-fe94-4237-8eef-6e8301169b28",
    "execution": {
     "iopub.execute_input": "2022-08-23T02:24:05.639630Z",
     "iopub.status.busy": "2022-08-23T02:24:05.639291Z",
     "iopub.status.idle": "2022-08-23T02:24:05.644954Z",
     "shell.execute_reply": "2022-08-23T02:24:05.644293Z",
     "shell.execute_reply.started": "2022-08-23T02:24:05.639604Z"
    },
    "jupyter": {
     "outputs_hidden": false
    }
   },
   "outputs": [
    {
     "name": "stdout",
     "output_type": "stream",
     "text": [
      "0.9919269171238779\n"
     ]
    }
   ],
   "source": [
    "from sklearn import metrics\n",
    "error_score_price = metrics.r2_score(y_train,price_data_pred )\n",
    "print (error_score_price)"
   ]
  },
  {
   "cell_type": "code",
   "execution_count": 326,
   "metadata": {
    "_cell_guid": "43569be7-c65b-40e2-a441-d6346900029c",
    "_uuid": "75b75b79-2e1b-4cf4-b2ed-a0e96773635c",
    "execution": {
     "iopub.execute_input": "2022-08-23T02:24:05.646892Z",
     "iopub.status.busy": "2022-08-23T02:24:05.645963Z",
     "iopub.status.idle": "2022-08-23T02:24:05.656122Z",
     "shell.execute_reply": "2022-08-23T02:24:05.655115Z",
     "shell.execute_reply.started": "2022-08-23T02:24:05.646866Z"
    },
    "jupyter": {
     "outputs_hidden": false
    }
   },
   "outputs": [
    {
     "name": "stdout",
     "output_type": "stream",
     "text": [
      "0.9928570113073083\n"
     ]
    }
   ],
   "source": [
    "error_score_order = metrics.r2_score(z_train,order_data_pred )\n",
    "print (error_score_order)"
   ]
  },
  {
   "cell_type": "code",
   "execution_count": 327,
   "metadata": {
    "_cell_guid": "25b9860b-49d7-4f15-9b90-bc190378b341",
    "_uuid": "ca8b49f9-80d9-4e47-a259-e046d40df8f5",
    "execution": {
     "iopub.execute_input": "2022-08-23T02:24:05.657673Z",
     "iopub.status.busy": "2022-08-23T02:24:05.657413Z",
     "iopub.status.idle": "2022-08-23T02:24:05.667294Z",
     "shell.execute_reply": "2022-08-23T02:24:05.666398Z",
     "shell.execute_reply.started": "2022-08-23T02:24:05.657651Z"
    },
    "jupyter": {
     "outputs_hidden": false
    }
   },
   "outputs": [
    {
     "name": "stdout",
     "output_type": "stream",
     "text": [
      "0.47916183565203874\n",
      "52062.255250154856\n"
     ]
    }
   ],
   "source": [
    "from sklearn.metrics import mean_squared_error\n",
    "print(mean_squared_error(y_train, price_data_pred))\n",
    "print(mean_squared_error(z_train, order_data_pred))"
   ]
  },
  {
   "cell_type": "code",
   "execution_count": 328,
   "metadata": {
    "_cell_guid": "f383b5da-a741-415e-9a46-d09eb8999c9a",
    "_uuid": "255d8209-e6f8-4358-ba98-70a12682e631",
    "execution": {
     "iopub.execute_input": "2022-08-23T02:24:05.668988Z",
     "iopub.status.busy": "2022-08-23T02:24:05.668732Z",
     "iopub.status.idle": "2022-08-23T02:24:05.825673Z",
     "shell.execute_reply": "2022-08-23T02:24:05.824794Z",
     "shell.execute_reply.started": "2022-08-23T02:24:05.668958Z"
    },
    "jupyter": {
     "outputs_hidden": false
    }
   },
   "outputs": [
    {
     "data": {
      "image/png": "[encoded data removed]",
      "text/plain": [
       "<Figure size 640x480 with 1 Axes>"
      ]
     },
     "metadata": {},
     "output_type": "display_data"
    }
   ],
   "source": [
    "\n",
    "#visualize the actual prices and Predicted prices\n",
    "from matplotlib import pyplot as plt\n",
    "#plt.scatter(X_train,y_train, color = 'blue', label = 'Actual')\n",
    "plt.scatter(y_train,price_data_pred)\n",
    "plt.xlabel(\"Actual Price\")\n",
    "plt.ylabel(\"Predicted Price\")\n",
    "plt.title(\"Actual Price Vs Predicted Price\")\n",
    "plt.grid(True)\n",
    "plt.show()"
   ]
  },
  {
   "cell_type": "code",
   "execution_count": 329,
   "metadata": {
    "_cell_guid": "53bc6913-c7e5-4904-a9b5-cd6984ab6b6f",
    "_uuid": "32b0b58e-b2b3-4a6b-83e9-cdc510fbd93f",
    "execution": {
     "iopub.execute_input": "2022-08-23T02:24:05.827234Z",
     "iopub.status.busy": "2022-08-23T02:24:05.826962Z",
     "iopub.status.idle": "2022-08-23T02:24:05.979658Z",
     "shell.execute_reply": "2022-08-23T02:24:05.978797Z",
     "shell.execute_reply.started": "2022-08-23T02:24:05.827208Z"
    },
    "jupyter": {
     "outputs_hidden": false
    }
   },
   "outputs": [
    {
     "data": {
      "image/png": "[encoded data removed]",
      "text/plain": [
       "<Figure size 640x480 with 1 Axes>"
      ]
     },
     "metadata": {},
     "output_type": "display_data"
    }
   ],
   "source": [
    "plt.scatter(z_train,order_data_pred)\n",
    "plt.xlabel(\"Actual Demand\")\n",
    "plt.ylabel(\"Predicted Demand\")\n",
    "plt.title(\"Actual Demand Vs Predicted Demand\")\n",
    "plt.grid(True)\n",
    "plt.show()"
   ]
  },
  {
   "cell_type": "code",
   "execution_count": 330,
   "metadata": {
    "_cell_guid": "4ffe7676-da09-44a4-a69d-14c285b95a39",
    "_uuid": "4dc7af48-d970-4dcc-ba6e-52d42d62b464",
    "execution": {
     "iopub.execute_input": "2022-08-23T02:24:05.981164Z",
     "iopub.status.busy": "2022-08-23T02:24:05.980846Z",
     "iopub.status.idle": "2022-08-23T02:24:05.990016Z",
     "shell.execute_reply": "2022-08-23T02:24:05.989074Z",
     "shell.execute_reply.started": "2022-08-23T02:24:05.981131Z"
    },
    "jupyter": {
     "outputs_hidden": false
    }
   },
   "outputs": [],
   "source": [
    "#Training data prediction\n",
    "price_testing_data_pred= price_reg_model.predict(X_test)"
   ]
  },
  {
   "cell_type": "code",
   "execution_count": 331,
   "metadata": {
    "_cell_guid": "864ced2b-642f-4981-91b9-4724caf233de",
    "_uuid": "f9b8ffeb-763d-4f7b-acce-d800cfcd8479",
    "execution": {
     "iopub.execute_input": "2022-08-23T02:24:05.991690Z",
     "iopub.status.busy": "2022-08-23T02:24:05.991158Z",
     "iopub.status.idle": "2022-08-23T02:24:06.002381Z",
     "shell.execute_reply": "2022-08-23T02:24:06.001290Z",
     "shell.execute_reply.started": "2022-08-23T02:24:05.991658Z"
    },
    "jupyter": {
     "outputs_hidden": false
    }
   },
   "outputs": [],
   "source": [
    "order_testing_data_pred= order_reg_model.predict(w_test)"
   ]
  },
  {
   "cell_type": "code",
   "execution_count": 332,
   "metadata": {
    "_cell_guid": "37c89140-1a73-474f-b9cd-2f9f56111785",
    "_uuid": "d338be0e-74bb-47a4-b71c-06fa401f9714",
    "execution": {
     "iopub.execute_input": "2022-08-23T02:24:06.003961Z",
     "iopub.status.busy": "2022-08-23T02:24:06.003693Z",
     "iopub.status.idle": "2022-08-23T02:24:06.011654Z",
     "shell.execute_reply": "2022-08-23T02:24:06.010724Z",
     "shell.execute_reply.started": "2022-08-23T02:24:06.003938Z"
    },
    "jupyter": {
     "outputs_hidden": false
    }
   },
   "outputs": [
    {
     "name": "stdout",
     "output_type": "stream",
     "text": [
      "0.9172581168619351\n",
      "0.9396163897090632\n"
     ]
    }
   ],
   "source": [
    "from sklearn import metrics\n",
    "error_score_price_test = metrics.r2_score(y_test,price_testing_data_pred )\n",
    "print (error_score_price_test)\n",
    "error_score_order_test = metrics.r2_score(z_test,order_testing_data_pred )\n",
    "print (error_score_order_test)"
   ]
  },
  {
   "cell_type": "code",
   "execution_count": 333,
   "metadata": {
    "_cell_guid": "56e4bf35-77fb-4fa0-a658-685e4acd98d3",
    "_uuid": "1814f140-944f-4c37-a220-f41c15767bea",
    "execution": {
     "iopub.execute_input": "2022-08-23T02:24:06.012981Z",
     "iopub.status.busy": "2022-08-23T02:24:06.012751Z",
     "iopub.status.idle": "2022-08-23T02:24:06.022693Z",
     "shell.execute_reply": "2022-08-23T02:24:06.021822Z",
     "shell.execute_reply.started": "2022-08-23T02:24:06.012960Z"
    },
    "jupyter": {
     "outputs_hidden": false
    }
   },
   "outputs": [
    {
     "name": "stdout",
     "output_type": "stream",
     "text": [
      "5.67848039479575\n",
      "356518.48037940694\n"
     ]
    }
   ],
   "source": [
    "from sklearn.metrics import mean_squared_error\n",
    "print(mean_squared_error(y_test, price_testing_data_pred))\n",
    "print(mean_squared_error(z_test, order_testing_data_pred))"
   ]
  },
  {
   "cell_type": "code",
   "execution_count": 334,
   "metadata": {
    "_cell_guid": "2051e45b-d2c4-4e18-9beb-977758589713",
    "_uuid": "34b6934e-5ca5-476e-9dde-ea091012163f",
    "execution": {
     "iopub.execute_input": "2022-08-23T02:24:06.025922Z",
     "iopub.status.busy": "2022-08-23T02:24:06.025593Z",
     "iopub.status.idle": "2022-08-23T02:24:06.179756Z",
     "shell.execute_reply": "2022-08-23T02:24:06.178976Z",
     "shell.execute_reply.started": "2022-08-23T02:24:06.025834Z"
    },
    "jupyter": {
     "outputs_hidden": false
    }
   },
   "outputs": [
    {
     "data": {
      "image/png": "[encoded data removed]",
      "text/plain": [
       "<Figure size 640x480 with 1 Axes>"
      ]
     },
     "metadata": {},
     "output_type": "display_data"
    }
   ],
   "source": [
    "#visualize the actual prices and Predicted prices\n",
    "from matplotlib import pyplot as plt\n",
    "#plt.scatter(X_train,y_train, color = 'blue', label = 'Actual')\n",
    "plt.scatter(y_test,price_testing_data_pred)\n",
    "plt.xlabel(\"Actual Price\")\n",
    "plt.ylabel(\"Predicted Price\")\n",
    "plt.title(\"Actual Price Vs Predicted Price\")\n",
    "plt.grid(True)\n",
    "plt.show()"
   ]
  },
  {
   "cell_type": "code",
   "execution_count": 335,
   "metadata": {
    "_cell_guid": "b6d0b5b6-90df-4188-ba6d-9d6851d9f23a",
    "_uuid": "4226c4b4-2cfb-4158-862e-e57c88e6b6f5",
    "execution": {
     "iopub.execute_input": "2022-08-23T02:24:06.180821Z",
     "iopub.status.busy": "2022-08-23T02:24:06.180623Z",
     "iopub.status.idle": "2022-08-23T02:24:06.326920Z",
     "shell.execute_reply": "2022-08-23T02:24:06.326144Z",
     "shell.execute_reply.started": "2022-08-23T02:24:06.180799Z"
    },
    "jupyter": {
     "outputs_hidden": false
    }
   },
   "outputs": [
    {
     "data": {
      "image/png": "[encoded data removed]",
      "text/plain": [
       "<Figure size 640x480 with 1 Axes>"
      ]
     },
     "metadata": {},
     "output_type": "display_data"
    }
   ],
   "source": [
    "plt.scatter(z_test,order_testing_data_pred)\n",
    "plt.xlabel(\"Actual Demand\")\n",
    "plt.ylabel(\"Predicted Demand\")\n",
    "plt.title(\"Actual Demand Vs Predicted Demand\")\n",
    "plt.grid(True)\n",
    "plt.show()"
   ]
  },
  {
   "cell_type": "code",
   "execution_count": 336,
   "metadata": {},
   "outputs": [],
   "source": [
    "input_data = pd.read_csv('https://raw.githubusercontent.com/Chitkara-University-Pb/Binary-Brains/main/input.csv')"
   ]
  },
  {
   "cell_type": "code",
   "execution_count": 337,
   "metadata": {},
   "outputs": [],
   "source": [
    "inputPred = input_data.drop([], axis =1)"
   ]
  },
  {
   "cell_type": "code",
   "execution_count": 338,
   "metadata": {},
   "outputs": [],
   "source": [
    "price_predict_input = price_reg_model.predict(inputPred) #date, season , month\n",
    "order_predict_input = order_reg_model.predict(inputPred) #Avg Price, date, season , month\n",
    "price_predict_input = pd.DataFrame(price_predict_input, columns=['predicted avg price']).to_csv('priceForecast.csv')\n",
    "order_predict_input = pd.DataFrame(order_predict_input, columns=['predicted demand']).to_csv('orderForecast.csv')"
   ]
  },
  {
   "cell_type": "code",
   "execution_count": 339,
   "metadata": {},
   "outputs": [
    {
     "data": {
      "text/plain": [
       "['PriceOrderForecast.pkl']"
      ]
     },
     "execution_count": 339,
     "metadata": {},
     "output_type": "execute_result"
    }
   ],
   "source": [
    "# Saving Machine Learning Model\n",
    "import joblib\n",
    "cb = CatBoostRegressor(verbose=0)\n",
    "joblib.dump(cb,\"PriceOrderForecast.pkl\")"
   ]
  },
  {
   "cell_type": "code",
   "execution_count": 340,
   "metadata": {},
   "outputs": [],
   "source": [
    "model = joblib.load(\"PriceOrderForecast.pkl\")"
   ]
  },
  {
   "cell_type": "code",
   "execution_count": null,
   "metadata": {},
   "outputs": [],
   "source": []
  },
  {
   "cell_type": "code",
   "execution_count": null,
   "metadata": {},
   "outputs": [],
   "source": []
  }
 ],
 "metadata": {
  "kernelspec": {
   "display_name": "Python 3 (ipykernel)",
   "language": "python",
   "name": "python3"
  },
  "language_info": {
   "codemirror_mode": {
    "name": "ipython",
    "version": 3
   },
   "file_extension": ".py",
   "mimetype": "text/x-python",
   "name": "python",
   "nbconvert_exporter": "python",
   "pygments_lexer": "ipython3",
   "version": "3.10.6"
  },
  "vscode": {
   "interpreter": {
    "hash": "b9e6cb15b86ac2757c8003d41fac53f163cb90e88454a41bdcc40095a21b5065"
   }
  }
 },
 "nbformat": 4,
 "nbformat_minor": 4
}
